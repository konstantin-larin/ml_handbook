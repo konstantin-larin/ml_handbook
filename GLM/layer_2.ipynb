{
 "cells": [
  {
   "cell_type": "markdown",
   "id": "b655fef5",
   "metadata": {},
   "source": [
    "# Implement GLM"
   ]
  },
  {
   "cell_type": "code",
   "execution_count": 6,
   "id": "912d6e33",
   "metadata": {},
   "outputs": [],
   "source": [
    "import numpy as np\n",
    "from scipy.special import gammaln\n",
    "from sklearn.linear_model import PoissonRegressor"
   ]
  },
  {
   "cell_type": "code",
   "execution_count": 1,
   "id": "63785c3c",
   "metadata": {},
   "outputs": [],
   "source": [
    "def generate_poisson_data(X, w):\n",
    "    mu = np.exp(X.dot(w))\n",
    "    return np.random.poisson(mu)"
   ]
  },
  {
   "cell_type": "code",
   "execution_count": 15,
   "id": "2dde8f16",
   "metadata": {},
   "outputs": [],
   "source": [
    "class PoissonRegression:\n",
    "    def __init__(self, epochs=1000, tol=1e-10):\n",
    "        self.epochs = epochs\n",
    "        self.tol = tol        \n",
    "        self.w = None\n",
    "        pass    \n",
    "    def fit(self, X, y):        \n",
    "        self.w = np.random.randn(X.shape[1])\n",
    "        # newton's optimiziation\n",
    "        prev_loss = float('inf')\n",
    "        for ep in range(self.epochs):\n",
    "            eta = X @ self.w\n",
    "            mu = np.exp(eta)\n",
    "            loss = np.sum(mu - y * eta + gammaln(y + 1)) \n",
    "            \n",
    "            if prev_loss - loss < self.tol:\n",
    "                print(f'Epoch {ep}: {loss}')\n",
    "                break\n",
    "            prev_loss = loss\n",
    "            if ep % 50 == 0:\n",
    "                print(f'Epoch {ep}: {loss}')\n",
    "\n",
    "            grad = X.T.dot(mu - y)\n",
    "            H = X.T @ (X * mu[:, None])\n",
    "            # H = X.T @ np.diag(mu) @ X\n",
    "            # self.w -= np.linalg.inv(H) @ grad\n",
    "            self.w -= np.linalg.solve(H, grad)\n",
    "    def predict(self, X):\n",
    "        eta = X @ self.w\n",
    "        y_pred = np.exp(eta)\n",
    "        return y_pred"
   ]
  },
  {
   "cell_type": "code",
   "execution_count": 16,
   "id": "05b41ec2",
   "metadata": {},
   "outputs": [
    {
     "name": "stdout",
     "output_type": "stream",
     "text": [
      "Epoch 0: 135.9129429978528\n",
      "Epoch 4: 132.74294870276802\n",
      "True w: [ 0.5 -0.3]\n",
      "Custom w: [ 0.44349986 -0.29962603]\n",
      "Sklearn w: [ 0.45248568 -0.30792867]\n"
     ]
    }
   ],
   "source": [
    "np.random.seed(42)\n",
    "n_samples = 100\n",
    "n_features = 2\n",
    "X = np.random.randn(n_samples, n_features)\n",
    "true_w = np.array([0.5, -0.3])\n",
    "eta = X @ true_w\n",
    "y = np.random.poisson(np.exp(eta))\n",
    "\n",
    "model = PoissonRegression()\n",
    "model.fit(X, y)\n",
    "y_pred_custom = model.predict(X)\n",
    "\n",
    "sk_model = PoissonRegressor(alpha=0)\n",
    "sk_model.fit(X,y)\n",
    "y_pred_sk = sk_model.predict(X)\n",
    "\n",
    "print(\"True w:\", true_w)\n",
    "print(\"Custom w:\", model.w)\n",
    "print(\"Sklearn w:\", sk_model.coef_)\n"
   ]
  },
  {
   "cell_type": "code",
   "execution_count": null,
   "id": "3960a0cf",
   "metadata": {},
   "outputs": [],
   "source": []
  }
 ],
 "metadata": {
  "kernelspec": {
   "display_name": "venv",
   "language": "python",
   "name": "python3"
  },
  "language_info": {
   "codemirror_mode": {
    "name": "ipython",
    "version": 3
   },
   "file_extension": ".py",
   "mimetype": "text/x-python",
   "name": "python",
   "nbconvert_exporter": "python",
   "pygments_lexer": "ipython3",
   "version": "3.12.9"
  }
 },
 "nbformat": 4,
 "nbformat_minor": 5
}
