{
 "cells": [
  {
   "cell_type": "markdown",
   "id": "dca6f829",
   "metadata": {},
   "source": [
    "1. Implement Out-Of-Bag (OOB) error estimation in RandomForestRegressor\n",
    "2. Implement feature importance evaluation using Mean Decrease in Impurity and Permutation Feature Importance\n",
    "3. Tune tree depth using OOB score (visualize as a plot)"
   ]
  },
  {
   "cell_type": "code",
   "execution_count": 122,
   "id": "420b6556",
   "metadata": {},
   "outputs": [],
   "source": [
    "from sklearn.tree import DecisionTreeRegressor\n",
    "import numpy as np\n",
    "from typing import Literal, Optional\n",
    "from collections import defaultdict\n",
    "from sklearn.metrics import mean_absolute_error, r2_score, mean_squared_error\n",
    "\n",
    "class RandomForestRegressor():\n",
    "    def __init__(self, n, random_state=None, \n",
    "                 criterion: Literal['absolute_error', 'squared_error']='squared_error',\n",
    "                 oob_scoring: Literal['absolute_error', 'squared_error']='squared_error'):\n",
    "        self.n = n    \n",
    "        self.trees = []\n",
    "        self.rng = np.random.default_rng(seed=random_state)\n",
    "        self.criterion = criterion\n",
    "        self.oob_score_ = None        \n",
    "        self.oob_metric = None                \n",
    "        if oob_scoring == 'squared_error':\n",
    "            self.oob_metric = mean_squared_error\n",
    "        if oob_scoring == 'absolute_error':\n",
    "            self.oob_metric = mean_absolute_error        \n",
    "\n",
    "    def fit(self, X, y):            \n",
    "        self.oob_predictions_ = defaultdict(list)\n",
    "        self.oob_true_labels_ = {}\n",
    "        num_samples = X.shape[0]            \n",
    "        num_features = X.shape[1]\n",
    "        max_features = num_features // 3    \n",
    "        self.feature_importances_ = np.zeros(num_features)    \n",
    "\n",
    "        for i in range(self.n):                 \n",
    "            indices = np.arange(num_samples)       \n",
    "            bootstrap_indices = self.rng.choice(indices, size=num_samples, replace=True)                                                \n",
    "            oob_mask = np.ones(num_samples, dtype=bool)\n",
    "            oob_mask[bootstrap_indices] = False\n",
    "            oob_indices = indices[oob_mask]\n",
    "            \n",
    "            X_bootstrap = X[bootstrap_indices]\n",
    "            y_bootstrap = y[bootstrap_indices]                    \n",
    "            \n",
    "            \n",
    "            tree = DecisionTreeRegressor(\n",
    "                criterion=self.criterion,\n",
    "                max_depth=None,\n",
    "                max_features=max_features,            \n",
    "                min_samples_split=2,        \n",
    "                random_state=i,                             \n",
    "            )            \n",
    "            tree.fit(X_bootstrap, y_bootstrap)                                                \n",
    "\n",
    "            self.feature_importances_ += tree.feature_importances_                        \n",
    "\n",
    "            if len(oob_indices) > 0:\n",
    "                X_oob = X[oob_indices]                \n",
    "                oob_preds = tree.predict(X_oob)\n",
    "\n",
    "                for j, idx in enumerate(oob_indices):\n",
    "                    self.oob_predictions_[idx].append(oob_preds[j])\n",
    "                    self.oob_true_labels_[idx] = y[idx]                                \n",
    "\n",
    "            self.trees.append(tree)\n",
    "        \n",
    "        self.feature_importances_ /= self.n\n",
    "        self.oob_score_ = self._score_oob()\n",
    "        return self \n",
    "\n",
    "    def _score_oob(self):        \n",
    "        y_true = []\n",
    "        y_pred = []\n",
    "        \n",
    "        for idx, predictions in self.oob_predictions_.items():            \n",
    "            y_true.append(self.oob_true_labels_[idx])\n",
    "            y_pred.append(np.mean(predictions))            \n",
    "\n",
    "        return self.oob_metric(y_true, y_pred)\n",
    "        \n",
    "\n",
    "    def predict(self,X):\n",
    "        Y = []\n",
    "        for tree in self.trees:                        \n",
    "            Y.append(tree.predict(X))\n",
    "        Y = np.array(Y)                       \n",
    "        # if self.criterion == 'absolute_error':\n",
    "        #     return np.median(Y, axis=0).flatten()\n",
    "        # if self.criterion == 'squared_error':\n",
    "        #     return np.mean(Y, axis=0).flatten()        \n",
    "        Y = np.mean(Y, axis=0).flatten()\n",
    "        return Y       "
   ]
  },
  {
   "cell_type": "code",
   "execution_count": 101,
   "id": "8a74d64c",
   "metadata": {},
   "outputs": [],
   "source": [
    "from sklearn.datasets import load_diabetes\n",
    "from sklearn.model_selection import train_test_split\n",
    "X, y = load_diabetes(return_X_y=True)\n",
    "X_train, X_test, y_train, y_test = train_test_split(X, y, test_size=0.2, random_state=42)"
   ]
  },
  {
   "cell_type": "code",
   "execution_count": 103,
   "id": "d87ac0b8",
   "metadata": {},
   "outputs": [
    {
     "name": "stdout",
     "output_type": "stream",
     "text": [
      "models count 1\n",
      "models count 12\n",
      "models count 23\n",
      "models count 34\n",
      "models count 45\n",
      "models count 56\n",
      "models count 67\n",
      "models count 78\n",
      "models count 89\n",
      "models count 100\n",
      "models count 101\n",
      "models count 200\n",
      "models count 300\n",
      "models count 400\n",
      "models count 500\n",
      "models count 600\n",
      "models count 700\n",
      "models count 800\n",
      "models count 900\n",
      "models count 1000\n",
      "models count 1500\n",
      "models count 2000\n",
      "models count 2500\n",
      "models count 3000\n"
     ]
    }
   ],
   "source": [
    "r2_on_train = []\n",
    "r2_on_test = []\n",
    "mae_on_test = []\n",
    "mae_on_oob = []\n",
    "model_counts = np.concatenate((\n",
    "    np.linspace(1, 100, 10, dtype=int), np.linspace(101, 1000, 10, dtype=int), [1500, 2000, 2500, 3000]\n",
    "))\n",
    "\n",
    "for n in model_counts:\n",
    "    print('models count', n)\n",
    "    rfr = RandomForestRegressor(n=n, random_state=42, criterion='absolute_error', oob_scoring='absolute_error')\n",
    "    rfr.fit(X_train, y_train)    \n",
    "    y_pred = rfr.predict(X_test)\n",
    "    y_pred_train = rfr.predict(X_train)\n",
    "    \n",
    "\n",
    "    r2_on_train.append(round(r2_score(y_train, y_pred_train), 2))\n",
    "    r2_on_test.append(round(r2_score(y_test, y_pred), 2))\n",
    "    mae_on_test.append(round(mean_absolute_error(y_test, y_pred), 2))\n",
    "    mae_on_oob.append(round(rfr.oob_score_, 2))"
   ]
  },
  {
   "cell_type": "code",
   "execution_count": 104,
   "id": "4cf5c3e0",
   "metadata": {},
   "outputs": [
    {
     "data": {
      "image/png": "[encoded data removed]",
      "text/plain": [
       "<Figure size 1000x800 with 1 Axes>"
      ]
     },
     "metadata": {},
     "output_type": "display_data"
    }
   ],
   "source": [
    "import matplotlib.pyplot as plt\n",
    "plt.figure(figsize=(10, 8))\n",
    "plt.plot(model_counts, mae_on_test, label='mae_on_test', color='red')\n",
    "plt.plot(model_counts, mae_on_oob, label='mae_on_oob', color='blue')\n",
    "plt.xlabel('models count')\n",
    "plt.ylabel('mae')\n",
    "plt.xticks(\n",
    "    np.concatenate((\n",
    "        np.linspace(1, 100, 2, dtype=int), np.linspace(101, 1000, 5, dtype=int), [1500, 2000, 2500, 3000]\n",
    "    )),\n",
    "    rotation=45,\n",
    "    ha='right'\n",
    ")\n",
    "plt.legend()\n",
    "plt.grid(True)\n",
    "plt.show()"
   ]
  },
  {
   "cell_type": "code",
   "execution_count": 105,
   "id": "31d29ef9",
   "metadata": {},
   "outputs": [
    {
     "data": {
      "image/png": "[encoded data removed]",
      "text/plain": [
       "<Figure size 1000x800 with 1 Axes>"
      ]
     },
     "metadata": {},
     "output_type": "display_data"
    }
   ],
   "source": [
    "plt.figure(figsize=(10, 8))\n",
    "plt.plot(model_counts, r2_on_train, label='r2_on_train', color='yellow')\n",
    "plt.plot(model_counts, r2_on_test, label='r2_on_test', color='green')\n",
    "plt.xticks(\n",
    "    np.concatenate((\n",
    "        np.linspace(1, 100, 2, dtype=int), np.linspace(101, 1000, 5, dtype=int), [1500, 2000, 2500, 3000]\n",
    "    )),    \n",
    ")\n",
    "plt.xlabel('models count')\n",
    "plt.ylabel('r2')\n",
    "plt.legend()\n",
    "plt.grid(True)\n",
    "plt.show()"
   ]
  },
  {
   "cell_type": "code",
   "execution_count": 106,
   "id": "6f13ed6e",
   "metadata": {},
   "outputs": [
    {
     "name": "stdout",
     "output_type": "stream",
     "text": [
      "best n 89\n"
     ]
    }
   ],
   "source": [
    "best_n = model_counts[np.argmin(mae_on_test)]\n",
    "print('best n', best_n)"
   ]
  },
  {
   "cell_type": "markdown",
   "id": "be3da336",
   "metadata": {},
   "source": [
    "The ensemble appears to overfit based on the R2 gap between training and test sets, which is expected due to the use of fully grown decision trees. However, this overfitting is mitigated by the ensemble effect — specifically, averaging over many diverse trees reduces variance and improves generalization."
   ]
  },
  {
   "cell_type": "code",
   "execution_count": 123,
   "id": "7e7b4641",
   "metadata": {},
   "outputs": [
    {
     "name": "stdout",
     "output_type": "stream",
     "text": [
      "mae on test 42.61002398687034\n",
      "r2 on test 0.47619212034002145\n",
      "r2 on train 0.9227272396907045\n",
      "oob score 48.054532993266626\n"
     ]
    }
   ],
   "source": [
    "rfr = RandomForestRegressor(best_n, 42, criterion='absolute_error', oob_scoring='absolute_error')\n",
    "rfr.fit(X_train, y_train)\n",
    "y_pred = rfr.predict(X_test)\n",
    "print('mae on test', mean_absolute_error(y_test, y_pred))\n",
    "print('r2 on test', r2_score(y_test, y_pred))\n",
    "print('r2 on train', r2_score(y_train, rfr.predict(X_train)))\n",
    "print('oob score', rfr.oob_score_)"
   ]
  },
  {
   "cell_type": "code",
   "execution_count": 125,
   "id": "7ff7f3f4",
   "metadata": {},
   "outputs": [
    {
     "name": "stdout",
     "output_type": "stream",
     "text": [
      "feature importances\n",
      "[0.07232472 0.01576378 0.20029202 0.12178082 0.07608357 0.08411897\n",
      " 0.09233327 0.06086411 0.1794788  0.09695993]\n"
     ]
    }
   ],
   "source": [
    "print('feature importances')\n",
    "print(rfr.feature_importances_)"
   ]
  },
  {
   "cell_type": "markdown",
   "id": "0cf19678",
   "metadata": {},
   "source": [
    "### Implementing permutation feature imptortances and compare with sklearn"
   ]
  },
  {
   "cell_type": "code",
   "execution_count": 153,
   "id": "21121b8d",
   "metadata": {},
   "outputs": [],
   "source": [
    "def pfi(forest, X, y, scoring: Literal['squared_error', 'absolute_error']='squared_error', n_repeats=5, random_state = 42):\n",
    "    scoring_func = None\n",
    "    if scoring == 'squared_error':\n",
    "        scoring_func = mean_squared_error\n",
    "    if scoring == 'absolute_error':\n",
    "        scoring_func = mean_absolute_error        \n",
    "\n",
    "\n",
    "    base_pred = forest.predict(X)\n",
    "    base_score = scoring_func(y, base_pred)    \n",
    "    num_features = X.shape[1]\n",
    "    permutation_importances = np.zeros(num_features)\n",
    "    \n",
    "    rng = np.random.default_rng(random_state)    \n",
    "\n",
    "    for feature_idx in range(num_features):\n",
    "        feature_scores = []\n",
    "        for _ in range(n_repeats):\n",
    "            X_shuffled = X.copy()\n",
    "            shuffled_column = rng.permutation(X_shuffled[:, feature_idx])\n",
    "            X_shuffled[:, feature_idx] = shuffled_column\n",
    "\n",
    "            shuffled_pred = forest.predict(X_shuffled)            \n",
    "            shuffled_score = scoring_func(y, shuffled_pred)            \n",
    "            # the greater the increase in error, the more important the feature is\n",
    "            feature_scores.append(shuffled_score - base_score)\n",
    "        \n",
    "        permutation_importances[feature_idx] = np.mean(feature_scores)\n",
    "    return permutation_importances"
   ]
  },
  {
   "cell_type": "code",
   "execution_count": 154,
   "id": "4e7cce08",
   "metadata": {},
   "outputs": [
    {
     "name": "stdout",
     "output_type": "stream",
     "text": [
      "feature_importances [ 0.88640323  0.22997096  8.22317889  1.46431006  0.03287464 -0.07203636\n",
      "  1.24671127  1.46655725  7.37848756  0.50682995]\n"
     ]
    }
   ],
   "source": [
    "print('feature_importances', pfi(rfr, X_test, y_test, 'absolute_error', 5, 42))"
   ]
  },
  {
   "cell_type": "code",
   "execution_count": 158,
   "id": "f494e02c",
   "metadata": {},
   "outputs": [
    {
     "data": {
      "text/plain": [
       "array([ 0.88450953,  0.3580861 ,  8.15205151,  1.27786896, -0.04552455,\n",
       "       -0.29185709,  1.24241889,  0.56818584,  7.02969322,  0.33286201])"
      ]
     },
     "execution_count": 158,
     "metadata": {},
     "output_type": "execute_result"
    }
   ],
   "source": [
    "from sklearn.inspection import permutation_importance\n",
    "\n",
    "permutation_importance(rfr, X_test, y_test, scoring='neg_mean_absolute_error', n_repeats=5, random_state=42)['importances_mean']"
   ]
  },
  {
   "cell_type": "markdown",
   "id": "ec2744d6",
   "metadata": {},
   "source": [
    "My implementation is ok"
   ]
  }
 ],
 "metadata": {
  "kernelspec": {
   "display_name": "venv",
   "language": "python",
   "name": "python3"
  },
  "language_info": {
   "codemirror_mode": {
    "name": "ipython",
    "version": 3
   },
   "file_extension": ".py",
   "mimetype": "text/x-python",
   "name": "python",
   "nbconvert_exporter": "python",
   "pygments_lexer": "ipython3",
   "version": "3.12.9"
  }
 },
 "nbformat": 4,
 "nbformat_minor": 5
}
