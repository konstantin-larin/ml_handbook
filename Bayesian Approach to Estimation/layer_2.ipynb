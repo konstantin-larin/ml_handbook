{
 "cells": [
  {
   "cell_type": "code",
   "execution_count": 1,
   "id": "0b13670a",
   "metadata": {},
   "outputs": [],
   "source": [
    "from sklearn.feature_extraction.text import TfidfVectorizer\n",
    "from sklearn.naive_bayes import MultinomialNB\n",
    "from sklearn.pipeline import make_pipeline"
   ]
  },
  {
   "cell_type": "code",
   "execution_count": 9,
   "id": "f1fcfd43",
   "metadata": {},
   "outputs": [
    {
     "data": {
      "text/plain": [
       "array([1])"
      ]
     },
     "execution_count": 9,
     "metadata": {},
     "output_type": "execute_result"
    }
   ],
   "source": [
    "texts = [\n",
    "    \"I love this movie, it was great!\",\n",
    "    \"This film was terrible, I hated it.\",\n",
    "    \"Amazing acting and story.\",\n",
    "    \"Worst movie ever made.\"\n",
    "]\n",
    "\n",
    "labels = [1, 0, 1, 0]\n",
    "\n",
    "model = make_pipeline(TfidfVectorizer(), MultinomialNB())\n",
    "\n",
    "model.fit(texts, labels)\n",
    "\n",
    "pred = model.predict(['Amazing movie!'])\n",
    "pred"
   ]
  },
  {
   "cell_type": "code",
   "execution_count": 14,
   "id": "cfb6e27d",
   "metadata": {},
   "outputs": [],
   "source": [
    "import numpy as np\n",
    "from collections import defaultdict\n",
    "\n",
    "class NaiveBayesClf:\n",
    "    def __init__(self, alpha=1.0):\n",
    "        self.alpha = alpha\n",
    "        self.class_priors = {}\n",
    "        self.word_counts = {}\n",
    "        self.class_word_totals = {}\n",
    "        self.vocab= set()\n",
    "    def fit(self, X, y):\n",
    "        self.classes = np.unique(y)\n",
    "        total_docs = len(y)\n",
    "\n",
    "        self.word_counts = {c: defaultdict(int) for c in self.classes}\n",
    "        self.class_word_totals = {c: 0 for c in self.classes}\n",
    "        self.class_priors = {c: 0 for c in self.classes}\n",
    "\n",
    "        for doc, label in zip(X, y):\n",
    "            self.class_priors[label] += 1\n",
    "            for word in doc:\n",
    "                self.word_counts[label][word] += 1\n",
    "                self.class_word_totals[label] += 1\n",
    "                self.vocab.add(word)\n",
    "        \n",
    "        for c in self.classes:\n",
    "            self.class_priors[c] /= total_docs\n",
    "    \n",
    "    def predict(self, X):\n",
    "        preds = []\n",
    "        vocab_size = len(self.vocab)\n",
    "\n",
    "        for doc in X:\n",
    "            class_scores = {}\n",
    "            for c in self.classes:\n",
    "                log_prob = np.log(self.class_priors[c])\n",
    "                for word in doc:\n",
    "                    word_prob = (\n",
    "                        (self.word_counts[c][word] + self.alpha) /\n",
    "                        (self.class_word_totals[c] + self.alpha * vocab_size)\n",
    "                        )\n",
    "                    log_prob += np.log(word_prob)\n",
    "                class_scores[c] = log_prob\n",
    "            preds.append(max(class_scores, key=class_scores.get))            \n",
    "        \n",
    "        return preds"
   ]
  },
  {
   "cell_type": "code",
   "execution_count": 16,
   "id": "937307ce",
   "metadata": {},
   "outputs": [
    {
     "name": "stdout",
     "output_type": "stream",
     "text": [
      "['pos']\n",
      "['neg']\n"
     ]
    }
   ],
   "source": [
    "docs = [\n",
    "    [\"love\", \"this\", \"movie\"],\n",
    "    [\"hate\", \"this\", \"film\"],\n",
    "    [\"amazing\", \"story\"],\n",
    "    [\"terrible\", \"movie\"]\n",
    "]\n",
    "labels = [\"pos\", \"neg\", \"pos\", \"neg\"]\n",
    "\n",
    "nb = NaiveBayesClf()\n",
    "nb.fit(docs, labels)\n",
    "\n",
    "print(nb.predict([[\"love\", \"story\"]]))  \n",
    "print(nb.predict([[\"hate\", \"movie\"]]))  \n"
   ]
  },
  {
   "cell_type": "code",
   "execution_count": null,
   "id": "cc9465b5",
   "metadata": {},
   "outputs": [],
   "source": []
  }
 ],
 "metadata": {
  "kernelspec": {
   "display_name": "venv",
   "language": "python",
   "name": "python3"
  },
  "language_info": {
   "codemirror_mode": {
    "name": "ipython",
    "version": 3
   },
   "file_extension": ".py",
   "mimetype": "text/x-python",
   "name": "python",
   "nbconvert_exporter": "python",
   "pygments_lexer": "ipython3",
   "version": "3.12.9"
  }
 },
 "nbformat": 4,
 "nbformat_minor": 5
}
