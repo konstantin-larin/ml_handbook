{
 "cells": [
  {
   "cell_type": "code",
   "execution_count": 58,
   "id": "ed8c54bc",
   "metadata": {},
   "outputs": [],
   "source": [
    "import numpy as np"
   ]
  },
  {
   "cell_type": "markdown",
   "id": "29d72f21",
   "metadata": {},
   "source": [
    "Implement a function to compute the Euclidean distance between two points."
   ]
  },
  {
   "cell_type": "code",
   "execution_count": 59,
   "id": "b8c2a6f1",
   "metadata": {},
   "outputs": [],
   "source": [
    "v1 = np.array([1, 1])\n",
    "v2 = np.array([2, 2])\n",
    "v3 = np.array([1, 1])"
   ]
  },
  {
   "cell_type": "code",
   "execution_count": 60,
   "id": "6416b0b2",
   "metadata": {},
   "outputs": [
    {
     "name": "stdout",
     "output_type": "stream",
     "text": [
      "1.4142135623730951\n",
      "0.0\n"
     ]
    }
   ],
   "source": [
    "def euclidian_norm(v1 : np.ndarray, v2:np.ndarray) -> np.float64:\n",
    "    return np.sqrt(np.sum((v1 - v2) ** 2))\n",
    "\n",
    "print(euclidian_norm(v1, v2))\n",
    "print(euclidian_norm(v1, v3))"
   ]
  },
  {
   "cell_type": "markdown",
   "id": "ec9aee73",
   "metadata": {},
   "source": [
    "Implement a function to compute the Manhattan distance."
   ]
  },
  {
   "cell_type": "code",
   "execution_count": 61,
   "id": "61031baf",
   "metadata": {},
   "outputs": [
    {
     "name": "stdout",
     "output_type": "stream",
     "text": [
      "2\n",
      "0\n"
     ]
    }
   ],
   "source": [
    "def manhattan_norm(v1: np.ndarray, v2: np.ndarray) -> np.float64:\n",
    "    return np.sum(np.abs(v1 - v2))\n",
    "\n",
    "print(manhattan_norm(v1, v2))\n",
    "print(manhattan_norm(v1, v3))\n"
   ]
  },
  {
   "cell_type": "code",
   "execution_count": 62,
   "id": "f277db4f",
   "metadata": {},
   "outputs": [
    {
     "name": "stdout",
     "output_type": "stream",
     "text": [
      "[-1, 10, 32]\n"
     ]
    }
   ],
   "source": [
    "import heapq\n",
    "a = [10, -1, 32]\n",
    "h = heapq.heapify(a)\n",
    "print(a)"
   ]
  },
  {
   "cell_type": "code",
   "execution_count": 63,
   "id": "44c68100",
   "metadata": {},
   "outputs": [],
   "source": [
    "X = np.array([\n",
    "    [1, 1],\n",
    "    [1, 2],\n",
    "    [6, 6],\n",
    "    [2, 1],\n",
    "    [7, 10],\n",
    "    [10, 8],\n",
    "    [1, 1],\n",
    "])\n",
    "\n",
    "y = np.array([1, 1, 0, 1, 0, 0, 1])\n",
    "assert len(X) == len(y), 'Wrong data'"
   ]
  },
  {
   "cell_type": "markdown",
   "id": "6e8eeeaf",
   "metadata": {},
   "source": [
    "Write a simple KNN classifier for 2D data with k=3."
   ]
  },
  {
   "cell_type": "code",
   "execution_count": 64,
   "id": "ae31d52d",
   "metadata": {},
   "outputs": [],
   "source": [
    "from sklearn.base import ClassifierMixin, BaseEstimator\n",
    "import heapq\n",
    "class KNNClassifier(ClassifierMixin, BaseEstimator):   \n",
    "    def __init__(self, norm='euclidian_norm', k=3):\n",
    "        super().__init__()\n",
    "        self.func_norm = euclidian_norm\n",
    "        if norm == 'manhattan_norm':\n",
    "            self.func_norm = manhattan_norm\n",
    "        self.k = k\n",
    "                     \n",
    "    def fit(self,X : np.ndarray, y : np.ndarray):        \n",
    "        if X.shape[0] != y.shape[0]:\n",
    "            raise ValueError('Wrong data')        \n",
    "        self.X = X\n",
    "        self.y = y\n",
    "\n",
    "    def get_common_class(self, closest_classes: list):        \n",
    "        classes, count = np.unique(closest_classes, return_counts=True)\n",
    "        return classes[np.argmax(count)]\n",
    "        \n",
    "    def predict(self, U):                            \n",
    "        if self.k >= self.X.shape[0]:\n",
    "            return np.full(U.shape[0], self.get_common_class(list(self.y)), dtype=int)        \n",
    "        \n",
    "        y_pred = np.zeros(U.shape[0], dtype=np.int64)         \n",
    "\n",
    "        for u_index, u in enumerate(U):            \n",
    "            k_nearest = [( -self.func_norm(u, self.X[i]) , i) for i in range(self.k)] # - для работы min heap как max heap\n",
    "            heapq.heapify(k_nearest)\n",
    "            \n",
    "            for i in range(self.k, self.X.shape[0]):                \n",
    "                max_distance = -k_nearest[0][0]\n",
    "                distance = self.func_norm(u, self.X[i])\n",
    "                if distance < max_distance:\n",
    "                    heapq.heappushpop(k_nearest, (-distance, i))\n",
    "            k_nearest_indices = [neighbour[1] for neighbour in k_nearest]\n",
    "\n",
    "            y_pred[u_index] = self.get_common_class(self.y[k_nearest_indices])\n",
    "\n",
    "        return y_pred\n"
   ]
  },
  {
   "cell_type": "code",
   "execution_count": null,
   "id": "cb75d1f2",
   "metadata": {},
   "outputs": [],
   "source": [
    "my_classifier = KNNClassifier('manhattan_norm', 3)\n",
    "my_classifier.fit(X, y)"
   ]
  },
  {
   "cell_type": "code",
   "execution_count": 66,
   "id": "4a414c3c",
   "metadata": {},
   "outputs": [
    {
     "name": "stdout",
     "output_type": "stream",
     "text": [
      "[1 0]\n",
      "1.0\n"
     ]
    }
   ],
   "source": [
    "X_test = np.array([\n",
    "    [0, 0], \n",
    "    [10, 20],\n",
    "])\n",
    "y_test = np.array([1, 0])\n",
    "\n",
    "y_pred = my_classifier.predict(X_test)\n",
    "print(y_pred)\n",
    "print(my_classifier.score(X_test, y_test))"
   ]
  },
  {
   "cell_type": "markdown",
   "id": "5f34e457",
   "metadata": {},
   "source": [
    "Test KNN on Iris"
   ]
  },
  {
   "cell_type": "code",
   "execution_count": 87,
   "id": "eced06ab",
   "metadata": {},
   "outputs": [
    {
     "data": {
      "text/plain": [
       "(120, 4)"
      ]
     },
     "execution_count": 87,
     "metadata": {},
     "output_type": "execute_result"
    }
   ],
   "source": [
    "from sklearn.datasets import load_iris\n",
    "from sklearn.preprocessing import StandardScaler\n",
    "from sklearn.model_selection import train_test_split\n",
    "\n",
    "X, y = load_iris(return_X_y=True)\n",
    "X_train, X_test, y_train, y_test = train_test_split(X, y, train_size=0.8, random_state=42, shuffle=True)\n",
    "scaler = StandardScaler()\n",
    "X_train = scaler.fit_transform(X_train)\n",
    "X_test = scaler.transform(X_test)\n",
    "X_train.shape"
   ]
  },
  {
   "cell_type": "code",
   "execution_count": 88,
   "id": "e7a08d7f",
   "metadata": {},
   "outputs": [
    {
     "name": "stdout",
     "output_type": "stream",
     "text": [
      "[ True  True  True  True  True  True  True  True  True  True  True  True\n",
      "  True  True  True  True  True  True  True  True  True  True  True  True\n",
      "  True  True  True  True  True  True]\n"
     ]
    },
    {
     "data": {
      "text/plain": [
       "1.0"
      ]
     },
     "execution_count": 88,
     "metadata": {},
     "output_type": "execute_result"
    }
   ],
   "source": [
    "my_classifier.fit(X_train, y_train)\n",
    "print(my_classifier.predict(X_test) == y_test)\n",
    "my_classifier.score(X_test, y_test)"
   ]
  },
  {
   "cell_type": "code",
   "execution_count": null,
   "id": "66631274",
   "metadata": {},
   "outputs": [
    {
     "data": {
      "text/plain": [
       "1.0"
      ]
     },
     "execution_count": 102,
     "metadata": {},
     "output_type": "execute_result"
    }
   ],
   "source": [
    "from sklearn.neighbors import KNeighborsClassifier\n",
    "sklearn_classifier = KNeighborsClassifier(3)\n",
    "sklearn_classifier.fit(X_train, y_train)\n",
    "sklearn_classifier.score(X_test, y_test)"
   ]
  }
 ],
 "metadata": {
  "kernelspec": {
   "display_name": "venv",
   "language": "python",
   "name": "python3"
  },
  "language_info": {
   "codemirror_mode": {
    "name": "ipython",
    "version": 3
   },
   "file_extension": ".py",
   "mimetype": "text/x-python",
   "name": "python",
   "nbconvert_exporter": "python",
   "pygments_lexer": "ipython3",
   "version": "3.12.9"
  }
 },
 "nbformat": 4,
 "nbformat_minor": 5
}
