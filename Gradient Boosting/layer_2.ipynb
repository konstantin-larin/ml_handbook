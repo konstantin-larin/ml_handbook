{
 "cells": [
  {
   "cell_type": "code",
   "execution_count": null,
   "id": "f0f7cf3f",
   "metadata": {},
   "outputs": [],
   "source": [
    "from sklearn.tree import DecisionTreeRegressor\n",
    "DecisionTreeRegressor(criterion='')"
   ]
  }
 ],
 "metadata": {
  "language_info": {
   "name": "python"
  }
 },
 "nbformat": 4,
 "nbformat_minor": 5
}
