{
 "cells": [
  {
   "cell_type": "code",
   "execution_count": 10,
   "id": "2b972128",
   "metadata": {},
   "outputs": [],
   "source": [
    "import numpy as np\n",
    "def calc_discrete_entropy_distr(probabilities : np.ndarray, log_base : float = np.e):\n",
    "    return -np.sum(probabilities * (np.log(probabilities) / np.log(log_base)))"
   ]
  },
  {
   "cell_type": "code",
   "execution_count": 11,
   "id": "f28a1191",
   "metadata": {},
   "outputs": [
    {
     "data": {
      "text/plain": [
       "1.0"
      ]
     },
     "execution_count": 11,
     "metadata": {},
     "output_type": "execute_result"
    }
   ],
   "source": [
    "probs = np.array([0.5, 0.5])\n",
    "calc_discrete_entropy_distr(probs, 2)"
   ]
  },
  {
   "cell_type": "code",
   "execution_count": 16,
   "id": "1595615a",
   "metadata": {},
   "outputs": [],
   "source": [
    "def calc_normal_distribution_entropy(variance):\n",
    "    return 0.5 * np.log(2 * np.pi * variance * np.e)"
   ]
  },
  {
   "cell_type": "code",
   "execution_count": 17,
   "id": "49695f0c",
   "metadata": {},
   "outputs": [
    {
     "data": {
      "text/plain": [
       "1.4189385332046727"
      ]
     },
     "execution_count": 17,
     "metadata": {},
     "output_type": "execute_result"
    }
   ],
   "source": [
    "calc_normal_distribution_entropy(1)"
   ]
  },
  {
   "cell_type": "code",
   "execution_count": 26,
   "id": "47cca5a8",
   "metadata": {},
   "outputs": [
    {
     "name": "stdout",
     "output_type": "stream",
     "text": [
      "bad 1.3880049079101844\n",
      "ideal 0.0\n"
     ]
    }
   ],
   "source": [
    "def calc_kl_divergence_on_discrete_distr(p : np.ndarray, q: np.ndarray):\n",
    "    if np.any(p < 0) or np.any(q < 0):\n",
    "        raise ValueError('probas must be positive')\n",
    "    if np.any(p > 1)  or np.any(q > 1):\n",
    "        raise ValueError('probas must be less than 1')\n",
    "    if not np.isclose(np.sum(p), 1.0) or not np.isclose(np.sum(q), 1.0):\n",
    "        raise ValueError('sum of both probability distributions must equals 1')\n",
    "    \n",
    "    p = np.clip(p, a_min=1e-10, a_max=None) \n",
    "    p /= np.sum(p)\n",
    "    q = np.clip(q, a_min=1e-10, a_max=None)\n",
    "    q /= np.sum(q)\n",
    "\n",
    "\n",
    "    return np.sum(p * (np.log(p) - np.log(q)))\n",
    "\n",
    "\n",
    "p = np.array([0.2, 0.3, 0.5])\n",
    "q = np.array([0.9, 0.05, 0.05])\n",
    "print('bad', calc_kl_divergence_on_discrete_distr(p, q))\n",
    "q = np.array([0.2, 0.3, 0.5])\n",
    "print('ideal', calc_kl_divergence_on_discrete_distr(p, q))"
   ]
  },
  {
   "cell_type": "code",
   "execution_count": null,
   "id": "3c656f63",
   "metadata": {},
   "outputs": [],
   "source": []
  }
 ],
 "metadata": {
  "kernelspec": {
   "display_name": "venv",
   "language": "python",
   "name": "python3"
  },
  "language_info": {
   "codemirror_mode": {
    "name": "ipython",
    "version": 3
   },
   "file_extension": ".py",
   "mimetype": "text/x-python",
   "name": "python",
   "nbconvert_exporter": "python",
   "pygments_lexer": "ipython3",
   "version": "3.12.9"
  }
 },
 "nbformat": 4,
 "nbformat_minor": 5
}
