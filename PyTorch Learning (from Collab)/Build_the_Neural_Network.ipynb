{
  "nbformat": 4,
  "nbformat_minor": 0,
  "metadata": {
    "colab": {
      "provenance": [],
      "gpuType": "T4"
    },
    "kernelspec": {
      "name": "python3",
      "display_name": "Python 3"
    },
    "language_info": {
      "name": "python"
    },
    "accelerator": "GPU"
  },
  "cells": [
    {
      "cell_type": "code",
      "execution_count": 2,
      "metadata": {
        "id": "0t30FR98J_hY"
      },
      "outputs": [],
      "source": [
        "import os\n",
        "import torch\n",
        "from torch import nn\n",
        "from torch.utils.data import DataLoader\n",
        "from torchvision import datasets, transforms"
      ]
    },
    {
      "cell_type": "code",
      "source": [
        "device = torch.accelerator.current_accelerator() if torch.accelerator.is_available() else 'cpu'\n",
        "print(f\"Using {device} device\")"
      ],
      "metadata": {
        "colab": {
          "base_uri": "https://localhost:8080/"
        },
        "id": "b2frqlMGKVg6",
        "outputId": "3ca90f3d-b41b-476d-d469-9ab72c3dd455"
      },
      "execution_count": 3,
      "outputs": [
        {
          "output_type": "stream",
          "name": "stdout",
          "text": [
            "Using cuda device\n"
          ]
        }
      ]
    },
    {
      "cell_type": "code",
      "source": [
        "class NeuralNetwork(nn.Module):\n",
        "  def __init__(self):\n",
        "    super().__init__()\n",
        "    self.flatten = nn.Flatten()\n",
        "    self.linear_relu_stack = nn.Sequential(\n",
        "        nn.Linear(28 * 28, 512),\n",
        "        nn.ReLU(),\n",
        "        nn.Linear(512, 512),\n",
        "        nn.ReLU(),\n",
        "        nn.Linear(512, 10)\n",
        "    )\n",
        "\n",
        "  def forward(self, x):\n",
        "    x = self.flatten(x)\n",
        "    logits = self.linear_relu_stack(x)\n",
        "    return logits\n"
      ],
      "metadata": {
        "id": "8GHAsvt1KlIF"
      },
      "execution_count": 4,
      "outputs": []
    },
    {
      "cell_type": "code",
      "source": [
        "model = NeuralNetwork().to(device)\n",
        "print(model)"
      ],
      "metadata": {
        "colab": {
          "base_uri": "https://localhost:8080/"
        },
        "id": "NAeoMZRDNInJ",
        "outputId": "2c8d2b30-0400-42d2-db56-5743b40dd5e6"
      },
      "execution_count": 5,
      "outputs": [
        {
          "output_type": "stream",
          "name": "stdout",
          "text": [
            "NeuralNetwork(\n",
            "  (flatten): Flatten(start_dim=1, end_dim=-1)\n",
            "  (linear_relu_stack): Sequential(\n",
            "    (0): Linear(in_features=784, out_features=512, bias=True)\n",
            "    (1): ReLU()\n",
            "    (2): Linear(in_features=512, out_features=512, bias=True)\n",
            "    (3): ReLU()\n",
            "    (4): Linear(in_features=512, out_features=10, bias=True)\n",
            "  )\n",
            ")\n"
          ]
        }
      ]
    },
    {
      "cell_type": "code",
      "source": [
        "X = torch.rand(1, 28, 28, device=device)\n",
        "logits = model(X)\n",
        "pred_probab = nn.Softmax(dim=1)(logits)\n",
        "y_pred = pred_probab.argmax(1)\n",
        "print(f'Predicted class: {y_pred}')"
      ],
      "metadata": {
        "colab": {
          "base_uri": "https://localhost:8080/"
        },
        "id": "RpPtuDKDNLKF",
        "outputId": "37fdc79b-4874-4e77-b244-9735ad97847f"
      },
      "execution_count": 6,
      "outputs": [
        {
          "output_type": "stream",
          "name": "stdout",
          "text": [
            "Predicted class: tensor([9], device='cuda:0')\n"
          ]
        }
      ]
    },
    {
      "cell_type": "code",
      "source": [
        "input_image = torch.rand(3, 28, 28)\n",
        "print(input_image.size())"
      ],
      "metadata": {
        "colab": {
          "base_uri": "https://localhost:8080/"
        },
        "id": "nj8tDSUbNz0k",
        "outputId": "45cc8ee4-9e75-45df-a49b-3921bbd3b60d"
      },
      "execution_count": 7,
      "outputs": [
        {
          "output_type": "stream",
          "name": "stdout",
          "text": [
            "torch.Size([3, 28, 28])\n"
          ]
        }
      ]
    },
    {
      "cell_type": "code",
      "source": [
        "flatten = nn.Flatten()\n",
        "flat_image = flatten(input_image)\n",
        "print(flat_image.size())"
      ],
      "metadata": {
        "colab": {
          "base_uri": "https://localhost:8080/"
        },
        "id": "zm41BLgtOaNO",
        "outputId": "e75d650e-d946-4cbe-fd58-cd27eeb06804"
      },
      "execution_count": 8,
      "outputs": [
        {
          "output_type": "stream",
          "name": "stdout",
          "text": [
            "torch.Size([3, 784])\n"
          ]
        }
      ]
    },
    {
      "cell_type": "code",
      "source": [
        "layer1 = nn.Linear(in_features=28*28, out_features=20)\n",
        "hidden1 = layer1(flat_image)\n",
        "print(hidden1.size())"
      ],
      "metadata": {
        "colab": {
          "base_uri": "https://localhost:8080/"
        },
        "id": "pd3d7fIAOg_k",
        "outputId": "12bd98fe-14c0-4f1a-bb7a-03d901429c34"
      },
      "execution_count": 9,
      "outputs": [
        {
          "output_type": "stream",
          "name": "stdout",
          "text": [
            "torch.Size([3, 20])\n"
          ]
        }
      ]
    },
    {
      "cell_type": "code",
      "source": [
        "print(f\"Before ReLU: {hidden1}\\n\\n\")\n",
        "hidden1 = nn.LeakyReLU()\n",
        "print(f\"After ReLU: {hidden1}\")"
      ],
      "metadata": {
        "colab": {
          "base_uri": "https://localhost:8080/"
        },
        "id": "JYEjNz05OoR6",
        "outputId": "3dbb812b-954a-48d9-9eb3-10ad6d728de4"
      },
      "execution_count": 11,
      "outputs": [
        {
          "output_type": "stream",
          "name": "stdout",
          "text": [
            "Before ReLU: tensor([[0.3236, 0.0000, 0.0000, 0.0000, 0.0000, 0.1816, 0.0000, 0.0000, 0.0000,\n",
            "         0.4423, 0.0000, 0.0000, 0.2048, 0.1326, 0.0000, 0.3808, 0.0000, 0.2846,\n",
            "         0.1678, 0.0000],\n",
            "        [0.0541, 0.0000, 0.0000, 0.0000, 0.0092, 0.1415, 0.1710, 0.0000, 0.0000,\n",
            "         0.5664, 0.0000, 0.0000, 0.3845, 0.7855, 0.0000, 0.1167, 0.0000, 0.4433,\n",
            "         0.1185, 0.0000],\n",
            "        [0.3320, 0.0000, 0.0000, 0.0000, 0.0000, 0.1582, 0.1124, 0.0000, 0.2003,\n",
            "         0.6049, 0.0000, 0.0000, 0.4433, 0.2366, 0.0000, 0.1960, 0.0384, 0.0983,\n",
            "         0.1691, 0.0000]], grad_fn=<ReluBackward0>)\n",
            "\n",
            "\n",
            "After ReLU: LeakyReLU(negative_slope=0.01)\n"
          ]
        }
      ]
    },
    {
      "cell_type": "code",
      "source": [
        "seq_modules = nn.Sequential(\n",
        "    flatten,\n",
        "    layer1,\n",
        "    nn.ReLU(),\n",
        "    nn.Linear(20, 10)\n",
        ")\n",
        "input_image = torch.rand(3,28,28)\n",
        "logits = seq_modules(input_image)"
      ],
      "metadata": {
        "id": "9pM3BbXHOrP1"
      },
      "execution_count": 12,
      "outputs": []
    },
    {
      "cell_type": "code",
      "source": [
        "softmax = nn.Softmax(dim=1)\n",
        "pred_probab = softmax(logits)"
      ],
      "metadata": {
        "id": "pweEmEqqR1h-"
      },
      "execution_count": 13,
      "outputs": []
    },
    {
      "cell_type": "code",
      "source": [
        "print(f\"Model structure: {model}\\n\\n\")\n",
        "for name, param in model.named_parameters():\n",
        "  print(f'Layer: {name} \\nSize: {param.size()} \\nValues : {param[:2]} \\n\\n')\n"
      ],
      "metadata": {
        "colab": {
          "base_uri": "https://localhost:8080/"
        },
        "id": "SUUgWPvHR3aj",
        "outputId": "e76d3d74-f497-4a22-e821-d7625ca2f00d"
      },
      "execution_count": 18,
      "outputs": [
        {
          "output_type": "stream",
          "name": "stdout",
          "text": [
            "Model structure: NeuralNetwork(\n",
            "  (flatten): Flatten(start_dim=1, end_dim=-1)\n",
            "  (linear_relu_stack): Sequential(\n",
            "    (0): Linear(in_features=784, out_features=512, bias=True)\n",
            "    (1): ReLU()\n",
            "    (2): Linear(in_features=512, out_features=512, bias=True)\n",
            "    (3): ReLU()\n",
            "    (4): Linear(in_features=512, out_features=10, bias=True)\n",
            "  )\n",
            ")\n",
            "\n",
            "\n",
            "Layer: linear_relu_stack.0.weight \n",
            "Size: torch.Size([512, 784]) \n",
            "Values : tensor([[ 0.0134, -0.0026,  0.0145,  ...,  0.0216, -0.0306, -0.0285],\n",
            "        [-0.0256,  0.0112,  0.0087,  ...,  0.0032,  0.0180, -0.0103]],\n",
            "       device='cuda:0', grad_fn=<SliceBackward0>) \n",
            "\n",
            "\n",
            "Layer: linear_relu_stack.0.bias \n",
            "Size: torch.Size([512]) \n",
            "Values : tensor([ 0.0256, -0.0308], device='cuda:0', grad_fn=<SliceBackward0>) \n",
            "\n",
            "\n",
            "Layer: linear_relu_stack.2.weight \n",
            "Size: torch.Size([512, 512]) \n",
            "Values : tensor([[ 0.0321,  0.0153, -0.0320,  ..., -0.0059,  0.0207,  0.0300],\n",
            "        [ 0.0250, -0.0329,  0.0413,  ..., -0.0231, -0.0255,  0.0002]],\n",
            "       device='cuda:0', grad_fn=<SliceBackward0>) \n",
            "\n",
            "\n",
            "Layer: linear_relu_stack.2.bias \n",
            "Size: torch.Size([512]) \n",
            "Values : tensor([0.0285, 0.0324], device='cuda:0', grad_fn=<SliceBackward0>) \n",
            "\n",
            "\n",
            "Layer: linear_relu_stack.4.weight \n",
            "Size: torch.Size([10, 512]) \n",
            "Values : tensor([[-0.0035,  0.0428, -0.0287,  ..., -0.0249, -0.0214,  0.0348],\n",
            "        [ 0.0305, -0.0412,  0.0283,  ..., -0.0406,  0.0333,  0.0237]],\n",
            "       device='cuda:0', grad_fn=<SliceBackward0>) \n",
            "\n",
            "\n",
            "Layer: linear_relu_stack.4.bias \n",
            "Size: torch.Size([10]) \n",
            "Values : tensor([-0.0239,  0.0017], device='cuda:0', grad_fn=<SliceBackward0>) \n",
            "\n",
            "\n"
          ]
        }
      ]
    },
    {
      "cell_type": "code",
      "source": [],
      "metadata": {
        "id": "oRZTcgR0SbIA"
      },
      "execution_count": null,
      "outputs": []
    }
  ]
}