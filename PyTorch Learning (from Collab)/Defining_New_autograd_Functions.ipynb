{
  "nbformat": 4,
  "nbformat_minor": 0,
  "metadata": {
    "colab": {
      "provenance": [],
      "gpuType": "T4"
    },
    "kernelspec": {
      "name": "python3",
      "display_name": "Python 3"
    },
    "language_info": {
      "name": "python"
    },
    "accelerator": "GPU"
  },
  "cells": [
    {
      "cell_type": "code",
      "execution_count": 5,
      "metadata": {
        "colab": {
          "base_uri": "https://localhost:8080/"
        },
        "id": "7DvqXDulP7Gl",
        "outputId": "5ae2f5fe-db65-485e-d344-53ff10ff0073"
      },
      "outputs": [
        {
          "output_type": "stream",
          "name": "stdout",
          "text": [
            "99 461.902587890625\n",
            "199 461.902587890625\n",
            "299 461.902587890625\n",
            "399 461.902587890625\n",
            "499 461.902587890625\n",
            "599 461.902587890625\n",
            "699 461.902587890625\n",
            "799 461.902587890625\n",
            "899 461.902587890625\n",
            "999 461.902587890625\n",
            "1099 461.902587890625\n",
            "1199 461.902587890625\n",
            "1299 461.902587890625\n",
            "1399 461.902587890625\n",
            "1499 461.902587890625\n",
            "1599 461.902587890625\n",
            "1699 461.902587890625\n",
            "1799 461.902587890625\n",
            "1899 461.902587890625\n",
            "1999 461.902587890625\n",
            "Result: y = 1.4305114384716155e-11 + -1.0016018152236938 * P3(0.0 + 0.2659043073654175 x)\n"
          ]
        }
      ],
      "source": [
        "import torch\n",
        "import math\n",
        "\n",
        "class LegendrePolynomial3(torch.autograd.Function):\n",
        "  @staticmethod\n",
        "  def forward(ctx, input):\n",
        "    ctx.save_for_backward(input)\n",
        "    return 0.5 * (5 * input ** 3 - 3 * input)\n",
        "\n",
        "  @staticmethod\n",
        "  def backward(ctx, grad_output):\n",
        "    input, = ctx.saved_tensors\n",
        "    return grad_output * 1.5 * (5 * input ** 2 - 1)\n",
        "\n",
        "dtype = torch.float\n",
        "device = torch.accelerator.current_accelerator() if torch.accelerator.is_available() else torch.device('cpu')\n",
        "\n",
        "x = torch.linspace(-math.pi, math.pi, 2000, device=device, dtype=dtype)\n",
        "y = torch.sin(x)\n",
        "\n",
        "a = torch.full((), 0.0, device=device, dtype=dtype, requires_grad=True)\n",
        "b = torch.full((), -1.0, device=device, dtype=dtype, requires_grad=True)\n",
        "c = torch.full((), 0.0, device=device, dtype=dtype, requires_grad=True)\n",
        "d = torch.full((), .3, device=device,  dtype=dtype, requires_grad=True)\n",
        "\n",
        "learning_rate = 5e-6\n",
        "for t in range(2000):\n",
        "  P3 = LegendrePolynomial3.apply\n",
        "  y_pred = a + b * P3(c + d * x)\n",
        "  loss = (y_pred - y).pow(2).sum()\n",
        "  if t % 100 == 99:\n",
        "    print(t, loss.item())\n",
        "\n",
        "loss.backward()\n",
        "\n",
        "with torch.no_grad():\n",
        "  a -= learning_rate * a.grad\n",
        "  b -= learning_rate * b.grad\n",
        "  c -= learning_rate * c.grad\n",
        "  d -= learning_rate * d.grad\n",
        "\n",
        "  a.grad = None\n",
        "  b.grad = None\n",
        "  c.grad = None\n",
        "  d.grad = None\n",
        "\n",
        "print(f'Result: y = {a.item()} + {b.item()} * P3({c.item()} + {d.item()} x)')\n"
      ]
    },
    {
      "cell_type": "code",
      "source": [],
      "metadata": {
        "id": "dHW1M9U-Sg0Y"
      },
      "execution_count": null,
      "outputs": []
    }
  ]
}